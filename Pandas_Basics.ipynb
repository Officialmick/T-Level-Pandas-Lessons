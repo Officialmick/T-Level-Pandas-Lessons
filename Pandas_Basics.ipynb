{
  "nbformat": 4,
  "nbformat_minor": 0,
  "metadata": {
    "colab": {
      "provenance": [],
      "include_colab_link": true
    },
    "kernelspec": {
      "name": "python3",
      "display_name": "Python 3"
    },
    "language_info": {
      "name": "python"
    }
  },
  "cells": [
    {
      "cell_type": "markdown",
      "metadata": {
        "id": "view-in-github",
        "colab_type": "text"
      },
      "source": [
        "<a href=\"https://colab.research.google.com/github/Officialmick/T-Level-Pandas-Lessons/blob/master/Pandas_Basics.ipynb\" target=\"_parent\"><img src=\"https://colab.research.google.com/assets/colab-badge.svg\" alt=\"Open In Colab\"/></a>"
      ]
    },
    {
      "cell_type": "markdown",
      "source": [
        "# Generating Data\n",
        "\n",
        "This block of code generates a random set of data about students in a college.\n",
        "\n",
        "It gives each student a value for their year group, attendance, and results for three assessments.\n",
        "\n",
        "You need to run this part first."
      ],
      "metadata": {
        "id": "Mo5YiBbyF1QD"
      }
    },
    {
      "cell_type": "code",
      "execution_count": 1,
      "metadata": {
        "id": "ampfNNBDDLIK"
      },
      "outputs": [],
      "source": [
        "import random\n",
        "\n",
        "#this data just generates random data about 500 students\n",
        "with open(\"studentData.csv\",\"w\") as f:\n",
        "\tf.write(\"student number,year,attendance,CAP1,CAP2,CAP3\\n\")\n",
        "\tfor i in range(500):\n",
        "\t\tsNum = f\"S25{str(i).zfill(3)}\"\n",
        "\t\tattendance = min([100,random.randint(89,103)])\n",
        "\t\tyear = 12 if i < 250 else 13\n",
        "\t\t#possibleGrades = [\"A*\",\"A\",\"A\",\"A\",\"B\",\"B\",\"B\",\"B\",\"B\",\"C\",\"C\",\"C\",\"D\",\"D\",\"E\"]\n",
        "\t\t#f.write(f\"{sNum},{year},{attendance},{random.choice(possibleGrades)},{random.choice(possibleGrades)},{random.choice(possibleGrades)}\\n\")\n",
        "\t\tf.write(f\"{sNum},{year},{attendance},{random.randint(35,100)},{random.randint(35,100)},{random.randint(35,100)}\\n\")"
      ]
    },
    {
      "cell_type": "markdown",
      "source": [
        "# Reading Data"
      ],
      "metadata": {
        "id": "s2jvPN3EF8mC"
      }
    },
    {
      "cell_type": "code",
      "source": [
        "import pandas as pd\n",
        "\n",
        "#this reads the data file into python\n",
        "#and stores into a variable called \"df\"\n",
        "#the \"df\" variable is a \"dataframe\"\n",
        "df = pd.read_csv(\"studentData.csv\")\n",
        "\n",
        "print(df)"
      ],
      "metadata": {
        "colab": {
          "base_uri": "https://localhost:8080/"
        },
        "id": "ViLz7_RyGXV6",
        "outputId": "3342688c-f792-4ee7-a174-47ef141a8021"
      },
      "execution_count": null,
      "outputs": [
        {
          "output_type": "stream",
          "name": "stdout",
          "text": [
            "    student number  year  attendance  CAP1  CAP2  CAP3\n",
            "0           S25000    12          98    99    75    65\n",
            "1           S25001    12          93    73    76    37\n",
            "2           S25002    12          96    87    73    83\n",
            "3           S25003    12          92    64    79    81\n",
            "4           S25004    12         100    79    68    54\n",
            "..             ...   ...         ...   ...   ...   ...\n",
            "495         S25495    13          98    52    54    45\n",
            "496         S25496    13         100    88    54    50\n",
            "497         S25497    13          91    84    42    73\n",
            "498         S25498    13          92    40    70    95\n",
            "499         S25499    13          92    62    65    39\n",
            "\n",
            "[500 rows x 6 columns]\n"
          ]
        }
      ]
    },
    {
      "cell_type": "markdown",
      "source": [
        "# Columns"
      ],
      "metadata": {
        "id": "bWXxC39aSB9K"
      }
    },
    {
      "cell_type": "code",
      "source": [
        "#this gets the name of all columns in the dataframe\n",
        "columns = df.columns\n",
        "\n",
        "#showing the columns to the user and letting them select one\n",
        "print(columns)\n",
        "columnSelection = input(\"enter the name of a column to see all the data in it: \")\n",
        "#if the user has selected a valid column...\n",
        "if columnSelection in columns:\n",
        "  #...show them the data in it...\n",
        "  print(df[columnSelection])\n",
        "else:\n",
        "  #...and if the haven't, show an error message\n",
        "  print(\"invalid column name entered, try again\")\n"
      ],
      "metadata": {
        "colab": {
          "base_uri": "https://localhost:8080/"
        },
        "id": "jYUMp4frSBrT",
        "outputId": "8eb96269-ede1-477c-ef52-c85fcfe390d3"
      },
      "execution_count": null,
      "outputs": [
        {
          "output_type": "stream",
          "name": "stdout",
          "text": [
            "Index(['student number', 'year', 'attendance', 'CAP1', 'CAP2', 'CAP3'], dtype='object')\n",
            "enter the name of a column to see all the data in it: CAP1\n",
            "0      99\n",
            "1      73\n",
            "2      87\n",
            "3      64\n",
            "4      79\n",
            "       ..\n",
            "495    52\n",
            "496    88\n",
            "497    84\n",
            "498    40\n",
            "499    62\n",
            "Name: CAP1, Length: 500, dtype: int64\n"
          ]
        }
      ]
    },
    {
      "cell_type": "markdown",
      "source": [
        "locating values"
      ],
      "metadata": {
        "id": "hHNYuK8nT7Sz"
      }
    },
    {
      "cell_type": "code",
      "source": [
        "#you can locate the values in a single row using df.loc[row name]\n",
        "#in this data, the rows are just numbered\n",
        "\n",
        "#this gives you all the data for one student\n",
        "df.loc[5]"
      ],
      "metadata": {
        "colab": {
          "base_uri": "https://localhost:8080/",
          "height": 176
        },
        "id": "Iox2E-taT8r6",
        "outputId": "5df2f2e3-a752-4fd4-88b4-cc40e17ef717"
      },
      "execution_count": 2,
      "outputs": [
        {
          "output_type": "error",
          "ename": "NameError",
          "evalue": "name 'df' is not defined",
          "traceback": [
            "\u001b[0;31m---------------------------------------------------------------------------\u001b[0m",
            "\u001b[0;31mNameError\u001b[0m                                 Traceback (most recent call last)",
            "\u001b[0;32m<ipython-input-2-b3ea901c9c58>\u001b[0m in \u001b[0;36m<cell line: 0>\u001b[0;34m()\u001b[0m\n\u001b[1;32m      3\u001b[0m \u001b[0;34m\u001b[0m\u001b[0m\n\u001b[1;32m      4\u001b[0m \u001b[0;31m#this gives you all the data for one student\u001b[0m\u001b[0;34m\u001b[0m\u001b[0;34m\u001b[0m\u001b[0m\n\u001b[0;32m----> 5\u001b[0;31m \u001b[0mdf\u001b[0m\u001b[0;34m.\u001b[0m\u001b[0mloc\u001b[0m\u001b[0;34m[\u001b[0m\u001b[0;36m5\u001b[0m\u001b[0;34m]\u001b[0m\u001b[0;34m\u001b[0m\u001b[0;34m\u001b[0m\u001b[0m\n\u001b[0m",
            "\u001b[0;31mNameError\u001b[0m: name 'df' is not defined"
          ]
        }
      ]
    },
    {
      "cell_type": "code",
      "source": [
        "#you can add a second parameter to pick out a specific column\n",
        "df.loc[5,\"attendance\"]"
      ],
      "metadata": {
        "colab": {
          "base_uri": "https://localhost:8080/",
          "height": 159
        },
        "id": "tle6HQMicCce",
        "outputId": "8ed9dfb1-6fc8-43ac-ec5a-aaf6d88fc857"
      },
      "execution_count": 3,
      "outputs": [
        {
          "output_type": "error",
          "ename": "NameError",
          "evalue": "name 'df' is not defined",
          "traceback": [
            "\u001b[0;31m---------------------------------------------------------------------------\u001b[0m",
            "\u001b[0;31mNameError\u001b[0m                                 Traceback (most recent call last)",
            "\u001b[0;32m<ipython-input-3-5d6a92f098d0>\u001b[0m in \u001b[0;36m<cell line: 0>\u001b[0;34m()\u001b[0m\n\u001b[1;32m      1\u001b[0m \u001b[0;31m#you can add a second parameter to pick out a specific column\u001b[0m\u001b[0;34m\u001b[0m\u001b[0;34m\u001b[0m\u001b[0m\n\u001b[0;32m----> 2\u001b[0;31m \u001b[0mdf\u001b[0m\u001b[0;34m.\u001b[0m\u001b[0mloc\u001b[0m\u001b[0;34m[\u001b[0m\u001b[0;36m5\u001b[0m\u001b[0;34m,\u001b[0m\u001b[0;34m\"attendance\"\u001b[0m\u001b[0;34m]\u001b[0m\u001b[0;34m\u001b[0m\u001b[0;34m\u001b[0m\u001b[0m\n\u001b[0m",
            "\u001b[0;31mNameError\u001b[0m: name 'df' is not defined"
          ]
        }
      ]
    },
    {
      "cell_type": "code",
      "source": [
        "import matplotlib.pyplot as plt\n",
        "\n",
        "df[[\"student number\", \"CAP1\", \"CAP2\", \"CAP3\"]].plot(kind=\"bar\")"
      ],
      "metadata": {
        "colab": {
          "base_uri": "https://localhost:8080/",
          "height": 459
        },
        "id": "AL73wgCLc71O",
        "outputId": "89711f80-793a-413a-d139-bb530b46ab8f"
      },
      "execution_count": null,
      "outputs": [
        {
          "output_type": "execute_result",
          "data": {
            "text/plain": [
              "<Axes: >"
            ]
          },
          "metadata": {},
          "execution_count": 62
        },
        {
          "output_type": "display_data",
          "data": {
            "text/plain": [
              "<Figure size 640x480 with 1 Axes>"
            ],
            "image/png": "[encoded data removed]"
          },
          "metadata": {}
        }
      ]
    }
  ]
}